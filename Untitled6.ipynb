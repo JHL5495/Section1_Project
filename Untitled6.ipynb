{
  "nbformat": 4,
  "nbformat_minor": 0,
  "metadata": {
    "colab": {
      "name": "Untitled6.ipynb",
      "provenance": [],
      "authorship_tag": "ABX9TyNs91/nDs3N8n7MundLIabR",
      "include_colab_link": true
    },
    "kernelspec": {
      "name": "python3",
      "display_name": "Python 3"
    },
    "language_info": {
      "name": "python"
    }
  },
  "cells": [
    {
      "cell_type": "markdown",
      "metadata": {
        "id": "view-in-github",
        "colab_type": "text"
      },
      "source": [
        "<a href=\"https://colab.research.google.com/github/JHL5495/Section1_Project/blob/main/Untitled6.ipynb\" target=\"_parent\"><img src=\"https://colab.research.google.com/assets/colab-badge.svg\" alt=\"Open In Colab\"/></a>"
      ]
    },
    {
      "cell_type": "code",
      "execution_count": 211,
      "metadata": {
        "id": "Q0bSXJ21aukj"
      },
      "outputs": [],
      "source": [
        "import pandas as pd\n",
        "import numpy as np\n",
        "import matplotlib.pyplot as plt\n",
        "%matplotlib inline\n",
        "import seaborn as sns\n",
        "\n",
        "from sklearn.base import BaseEstimator, TransformerMixin\n",
        "from sklearn.pipeline import Pipeline\n",
        "from sklearn.linear_model import LogisticRegression\n",
        "from sklearn.model_selection import train_test_split\n",
        "from sklearn.model_selection import cross_val_score\n",
        "from sklearn.model_selection import RandomizedSearchCV\n",
        "from sklearn.tree import DecisionTreeClassifier\n",
        "from sklearn.ensemble import RandomForestClassifier\n",
        "from sklearn.ensemble import GradientBoostingClassifier\n",
        "from sklearn.preprocessing import StandardScaler\n",
        "from sklearn.metrics import plot_confusion_matrix, confusion_matrix\n",
        "\n",
        "from xgboost import XGBClassifier\n",
        "\n",
        "from scipy.stats import skew\n",
        "from scipy.stats import randint, truncnorm, uniform\n",
        "\n",
        "from sklearn.metrics import f1_score\n",
        "from sklearn.metrics import precision_recall_curve\n",
        "\n",
        "import warnings\n",
        "warnings.filterwarnings('ignore')"
      ]
    },
    {
      "cell_type": "code",
      "source": [
        "df = pd.read_csv('/LOL/high_diamond_ranked_10min.csv')\n",
        "df.head()"
      ],
      "metadata": {
        "colab": {
          "base_uri": "https://localhost:8080/",
          "height": 300
        },
        "id": "kppMD3EYa3SJ",
        "outputId": "430db209-e17e-4b0e-8903-55d07667cf71"
      },
      "execution_count": 212,
      "outputs": [
        {
          "output_type": "execute_result",
          "data": {
            "text/plain": [
              "       gameId  blueWins  blueWardsPlaced  blueWardsDestroyed  blueFirstBlood  \\\n",
              "0  4519157822         0               28                   2               1   \n",
              "1  4523371949         0               12                   1               0   \n",
              "2  4521474530         0               15                   0               0   \n",
              "3  4524384067         0               43                   1               0   \n",
              "4  4436033771         0               75                   4               0   \n",
              "\n",
              "   blueKills  blueDeaths  blueAssists  blueEliteMonsters  blueDragons  ...  \\\n",
              "0          9           6           11                  0            0  ...   \n",
              "1          5           5            5                  0            0  ...   \n",
              "2          7          11            4                  1            1  ...   \n",
              "3          4           5            5                  1            0  ...   \n",
              "4          6           6            6                  0            0  ...   \n",
              "\n",
              "   redTowersDestroyed  redTotalGold  redAvgLevel  redTotalExperience  \\\n",
              "0                   0         16567          6.8               17047   \n",
              "1                   1         17620          6.8               17438   \n",
              "2                   0         17285          6.8               17254   \n",
              "3                   0         16478          7.0               17961   \n",
              "4                   0         17404          7.0               18313   \n",
              "\n",
              "   redTotalMinionsKilled  redTotalJungleMinionsKilled  redGoldDiff  \\\n",
              "0                    197                           55         -643   \n",
              "1                    240                           52         2908   \n",
              "2                    203                           28         1172   \n",
              "3                    235                           47         1321   \n",
              "4                    225                           67         1004   \n",
              "\n",
              "   redExperienceDiff  redCSPerMin  redGoldPerMin  \n",
              "0                  8         19.7         1656.7  \n",
              "1               1173         24.0         1762.0  \n",
              "2               1033         20.3         1728.5  \n",
              "3                  7         23.5         1647.8  \n",
              "4               -230         22.5         1740.4  \n",
              "\n",
              "[5 rows x 40 columns]"
            ],
            "text/html": [
              "\n",
              "  <div id=\"df-4fc5e06a-a1c6-4a89-92c0-d42638f55c85\">\n",
              "    <div class=\"colab-df-container\">\n",
              "      <div>\n",
              "<style scoped>\n",
              "    .dataframe tbody tr th:only-of-type {\n",
              "        vertical-align: middle;\n",
              "    }\n",
              "\n",
              "    .dataframe tbody tr th {\n",
              "        vertical-align: top;\n",
              "    }\n",
              "\n",
              "    .dataframe thead th {\n",
              "        text-align: right;\n",
              "    }\n",
              "</style>\n",
              "<table border=\"1\" class=\"dataframe\">\n",
              "  <thead>\n",
              "    <tr style=\"text-align: right;\">\n",
              "      <th></th>\n",
              "      <th>gameId</th>\n",
              "      <th>blueWins</th>\n",
              "      <th>blueWardsPlaced</th>\n",
              "      <th>blueWardsDestroyed</th>\n",
              "      <th>blueFirstBlood</th>\n",
              "      <th>blueKills</th>\n",
              "      <th>blueDeaths</th>\n",
              "      <th>blueAssists</th>\n",
              "      <th>blueEliteMonsters</th>\n",
              "      <th>blueDragons</th>\n",
              "      <th>...</th>\n",
              "      <th>redTowersDestroyed</th>\n",
              "      <th>redTotalGold</th>\n",
              "      <th>redAvgLevel</th>\n",
              "      <th>redTotalExperience</th>\n",
              "      <th>redTotalMinionsKilled</th>\n",
              "      <th>redTotalJungleMinionsKilled</th>\n",
              "      <th>redGoldDiff</th>\n",
              "      <th>redExperienceDiff</th>\n",
              "      <th>redCSPerMin</th>\n",
              "      <th>redGoldPerMin</th>\n",
              "    </tr>\n",
              "  </thead>\n",
              "  <tbody>\n",
              "    <tr>\n",
              "      <th>0</th>\n",
              "      <td>4519157822</td>\n",
              "      <td>0</td>\n",
              "      <td>28</td>\n",
              "      <td>2</td>\n",
              "      <td>1</td>\n",
              "      <td>9</td>\n",
              "      <td>6</td>\n",
              "      <td>11</td>\n",
              "      <td>0</td>\n",
              "      <td>0</td>\n",
              "      <td>...</td>\n",
              "      <td>0</td>\n",
              "      <td>16567</td>\n",
              "      <td>6.8</td>\n",
              "      <td>17047</td>\n",
              "      <td>197</td>\n",
              "      <td>55</td>\n",
              "      <td>-643</td>\n",
              "      <td>8</td>\n",
              "      <td>19.7</td>\n",
              "      <td>1656.7</td>\n",
              "    </tr>\n",
              "    <tr>\n",
              "      <th>1</th>\n",
              "      <td>4523371949</td>\n",
              "      <td>0</td>\n",
              "      <td>12</td>\n",
              "      <td>1</td>\n",
              "      <td>0</td>\n",
              "      <td>5</td>\n",
              "      <td>5</td>\n",
              "      <td>5</td>\n",
              "      <td>0</td>\n",
              "      <td>0</td>\n",
              "      <td>...</td>\n",
              "      <td>1</td>\n",
              "      <td>17620</td>\n",
              "      <td>6.8</td>\n",
              "      <td>17438</td>\n",
              "      <td>240</td>\n",
              "      <td>52</td>\n",
              "      <td>2908</td>\n",
              "      <td>1173</td>\n",
              "      <td>24.0</td>\n",
              "      <td>1762.0</td>\n",
              "    </tr>\n",
              "    <tr>\n",
              "      <th>2</th>\n",
              "      <td>4521474530</td>\n",
              "      <td>0</td>\n",
              "      <td>15</td>\n",
              "      <td>0</td>\n",
              "      <td>0</td>\n",
              "      <td>7</td>\n",
              "      <td>11</td>\n",
              "      <td>4</td>\n",
              "      <td>1</td>\n",
              "      <td>1</td>\n",
              "      <td>...</td>\n",
              "      <td>0</td>\n",
              "      <td>17285</td>\n",
              "      <td>6.8</td>\n",
              "      <td>17254</td>\n",
              "      <td>203</td>\n",
              "      <td>28</td>\n",
              "      <td>1172</td>\n",
              "      <td>1033</td>\n",
              "      <td>20.3</td>\n",
              "      <td>1728.5</td>\n",
              "    </tr>\n",
              "    <tr>\n",
              "      <th>3</th>\n",
              "      <td>4524384067</td>\n",
              "      <td>0</td>\n",
              "      <td>43</td>\n",
              "      <td>1</td>\n",
              "      <td>0</td>\n",
              "      <td>4</td>\n",
              "      <td>5</td>\n",
              "      <td>5</td>\n",
              "      <td>1</td>\n",
              "      <td>0</td>\n",
              "      <td>...</td>\n",
              "      <td>0</td>\n",
              "      <td>16478</td>\n",
              "      <td>7.0</td>\n",
              "      <td>17961</td>\n",
              "      <td>235</td>\n",
              "      <td>47</td>\n",
              "      <td>1321</td>\n",
              "      <td>7</td>\n",
              "      <td>23.5</td>\n",
              "      <td>1647.8</td>\n",
              "    </tr>\n",
              "    <tr>\n",
              "      <th>4</th>\n",
              "      <td>4436033771</td>\n",
              "      <td>0</td>\n",
              "      <td>75</td>\n",
              "      <td>4</td>\n",
              "      <td>0</td>\n",
              "      <td>6</td>\n",
              "      <td>6</td>\n",
              "      <td>6</td>\n",
              "      <td>0</td>\n",
              "      <td>0</td>\n",
              "      <td>...</td>\n",
              "      <td>0</td>\n",
              "      <td>17404</td>\n",
              "      <td>7.0</td>\n",
              "      <td>18313</td>\n",
              "      <td>225</td>\n",
              "      <td>67</td>\n",
              "      <td>1004</td>\n",
              "      <td>-230</td>\n",
              "      <td>22.5</td>\n",
              "      <td>1740.4</td>\n",
              "    </tr>\n",
              "  </tbody>\n",
              "</table>\n",
              "<p>5 rows × 40 columns</p>\n",
              "</div>\n",
              "      <button class=\"colab-df-convert\" onclick=\"convertToInteractive('df-4fc5e06a-a1c6-4a89-92c0-d42638f55c85')\"\n",
              "              title=\"Convert this dataframe to an interactive table.\"\n",
              "              style=\"display:none;\">\n",
              "        \n",
              "  <svg xmlns=\"http://www.w3.org/2000/svg\" height=\"24px\"viewBox=\"0 0 24 24\"\n",
              "       width=\"24px\">\n",
              "    <path d=\"M0 0h24v24H0V0z\" fill=\"none\"/>\n",
              "    <path d=\"M18.56 5.44l.94 2.06.94-2.06 2.06-.94-2.06-.94-.94-2.06-.94 2.06-2.06.94zm-11 1L8.5 8.5l.94-2.06 2.06-.94-2.06-.94L8.5 2.5l-.94 2.06-2.06.94zm10 10l.94 2.06.94-2.06 2.06-.94-2.06-.94-.94-2.06-.94 2.06-2.06.94z\"/><path d=\"M17.41 7.96l-1.37-1.37c-.4-.4-.92-.59-1.43-.59-.52 0-1.04.2-1.43.59L10.3 9.45l-7.72 7.72c-.78.78-.78 2.05 0 2.83L4 21.41c.39.39.9.59 1.41.59.51 0 1.02-.2 1.41-.59l7.78-7.78 2.81-2.81c.8-.78.8-2.07 0-2.86zM5.41 20L4 18.59l7.72-7.72 1.47 1.35L5.41 20z\"/>\n",
              "  </svg>\n",
              "      </button>\n",
              "      \n",
              "  <style>\n",
              "    .colab-df-container {\n",
              "      display:flex;\n",
              "      flex-wrap:wrap;\n",
              "      gap: 12px;\n",
              "    }\n",
              "\n",
              "    .colab-df-convert {\n",
              "      background-color: #E8F0FE;\n",
              "      border: none;\n",
              "      border-radius: 50%;\n",
              "      cursor: pointer;\n",
              "      display: none;\n",
              "      fill: #1967D2;\n",
              "      height: 32px;\n",
              "      padding: 0 0 0 0;\n",
              "      width: 32px;\n",
              "    }\n",
              "\n",
              "    .colab-df-convert:hover {\n",
              "      background-color: #E2EBFA;\n",
              "      box-shadow: 0px 1px 2px rgba(60, 64, 67, 0.3), 0px 1px 3px 1px rgba(60, 64, 67, 0.15);\n",
              "      fill: #174EA6;\n",
              "    }\n",
              "\n",
              "    [theme=dark] .colab-df-convert {\n",
              "      background-color: #3B4455;\n",
              "      fill: #D2E3FC;\n",
              "    }\n",
              "\n",
              "    [theme=dark] .colab-df-convert:hover {\n",
              "      background-color: #434B5C;\n",
              "      box-shadow: 0px 1px 3px 1px rgba(0, 0, 0, 0.15);\n",
              "      filter: drop-shadow(0px 1px 2px rgba(0, 0, 0, 0.3));\n",
              "      fill: #FFFFFF;\n",
              "    }\n",
              "  </style>\n",
              "\n",
              "      <script>\n",
              "        const buttonEl =\n",
              "          document.querySelector('#df-4fc5e06a-a1c6-4a89-92c0-d42638f55c85 button.colab-df-convert');\n",
              "        buttonEl.style.display =\n",
              "          google.colab.kernel.accessAllowed ? 'block' : 'none';\n",
              "\n",
              "        async function convertToInteractive(key) {\n",
              "          const element = document.querySelector('#df-4fc5e06a-a1c6-4a89-92c0-d42638f55c85');\n",
              "          const dataTable =\n",
              "            await google.colab.kernel.invokeFunction('convertToInteractive',\n",
              "                                                     [key], {});\n",
              "          if (!dataTable) return;\n",
              "\n",
              "          const docLinkHtml = 'Like what you see? Visit the ' +\n",
              "            '<a target=\"_blank\" href=https://colab.research.google.com/notebooks/data_table.ipynb>data table notebook</a>'\n",
              "            + ' to learn more about interactive tables.';\n",
              "          element.innerHTML = '';\n",
              "          dataTable['output_type'] = 'display_data';\n",
              "          await google.colab.output.renderOutput(dataTable, element);\n",
              "          const docLink = document.createElement('div');\n",
              "          docLink.innerHTML = docLinkHtml;\n",
              "          element.appendChild(docLink);\n",
              "        }\n",
              "      </script>\n",
              "    </div>\n",
              "  </div>\n",
              "  "
            ]
          },
          "metadata": {},
          "execution_count": 212
        }
      ]
    },
    {
      "cell_type": "code",
      "source": [
        "df.isna().sum()"
      ],
      "metadata": {
        "colab": {
          "base_uri": "https://localhost:8080/"
        },
        "id": "KwWowulLbIcM",
        "outputId": "b24a4630-e8f8-49d6-c53a-3898267f7780"
      },
      "execution_count": 213,
      "outputs": [
        {
          "output_type": "execute_result",
          "data": {
            "text/plain": [
              "gameId                          0\n",
              "blueWins                        0\n",
              "blueWardsPlaced                 0\n",
              "blueWardsDestroyed              0\n",
              "blueFirstBlood                  0\n",
              "blueKills                       0\n",
              "blueDeaths                      0\n",
              "blueAssists                     0\n",
              "blueEliteMonsters               0\n",
              "blueDragons                     0\n",
              "blueHeralds                     0\n",
              "blueTowersDestroyed             0\n",
              "blueTotalGold                   0\n",
              "blueAvgLevel                    0\n",
              "blueTotalExperience             0\n",
              "blueTotalMinionsKilled          0\n",
              "blueTotalJungleMinionsKilled    0\n",
              "blueGoldDiff                    0\n",
              "blueExperienceDiff              0\n",
              "blueCSPerMin                    0\n",
              "blueGoldPerMin                  0\n",
              "redWardsPlaced                  0\n",
              "redWardsDestroyed               0\n",
              "redFirstBlood                   0\n",
              "redKills                        0\n",
              "redDeaths                       0\n",
              "redAssists                      0\n",
              "redEliteMonsters                0\n",
              "redDragons                      0\n",
              "redHeralds                      0\n",
              "redTowersDestroyed              0\n",
              "redTotalGold                    0\n",
              "redAvgLevel                     0\n",
              "redTotalExperience              0\n",
              "redTotalMinionsKilled           0\n",
              "redTotalJungleMinionsKilled     0\n",
              "redGoldDiff                     0\n",
              "redExperienceDiff               0\n",
              "redCSPerMin                     0\n",
              "redGoldPerMin                   0\n",
              "dtype: int64"
            ]
          },
          "metadata": {},
          "execution_count": 213
        }
      ]
    },
    {
      "cell_type": "code",
      "source": [
        "df['team_won'] = np.where(df['blueWins']==1, 'blue','red')\n",
        "df.dtypes"
      ],
      "metadata": {
        "colab": {
          "base_uri": "https://localhost:8080/"
        },
        "id": "GL9MvxFCbLlu",
        "outputId": "d9e85c19-3089-43cc-b63d-1216676a3d79"
      },
      "execution_count": 214,
      "outputs": [
        {
          "output_type": "execute_result",
          "data": {
            "text/plain": [
              "gameId                            int64\n",
              "blueWins                          int64\n",
              "blueWardsPlaced                   int64\n",
              "blueWardsDestroyed                int64\n",
              "blueFirstBlood                    int64\n",
              "blueKills                         int64\n",
              "blueDeaths                        int64\n",
              "blueAssists                       int64\n",
              "blueEliteMonsters                 int64\n",
              "blueDragons                       int64\n",
              "blueHeralds                       int64\n",
              "blueTowersDestroyed               int64\n",
              "blueTotalGold                     int64\n",
              "blueAvgLevel                    float64\n",
              "blueTotalExperience               int64\n",
              "blueTotalMinionsKilled            int64\n",
              "blueTotalJungleMinionsKilled      int64\n",
              "blueGoldDiff                      int64\n",
              "blueExperienceDiff                int64\n",
              "blueCSPerMin                    float64\n",
              "blueGoldPerMin                  float64\n",
              "redWardsPlaced                    int64\n",
              "redWardsDestroyed                 int64\n",
              "redFirstBlood                     int64\n",
              "redKills                          int64\n",
              "redDeaths                         int64\n",
              "redAssists                        int64\n",
              "redEliteMonsters                  int64\n",
              "redDragons                        int64\n",
              "redHeralds                        int64\n",
              "redTowersDestroyed                int64\n",
              "redTotalGold                      int64\n",
              "redAvgLevel                     float64\n",
              "redTotalExperience                int64\n",
              "redTotalMinionsKilled             int64\n",
              "redTotalJungleMinionsKilled       int64\n",
              "redGoldDiff                       int64\n",
              "redExperienceDiff                 int64\n",
              "redCSPerMin                     float64\n",
              "redGoldPerMin                   float64\n",
              "team_won                         object\n",
              "dtype: object"
            ]
          },
          "metadata": {},
          "execution_count": 214
        }
      ]
    },
    {
      "cell_type": "code",
      "source": [
        "class_sym = df['blueWins'].value_counts()\n",
        "print(class_sym)\n",
        "class_plot = sns.countplot(data=df, x= 'blueWins')"
      ],
      "metadata": {
        "colab": {
          "base_uri": "https://localhost:8080/",
          "height": 334
        },
        "id": "icyev7KXbOuC",
        "outputId": "b70e7122-dc36-4f86-c2b4-5b5f5bd4d29f"
      },
      "execution_count": 215,
      "outputs": [
        {
          "output_type": "stream",
          "name": "stdout",
          "text": [
            "0    4949\n",
            "1    4930\n",
            "Name: blueWins, dtype: int64\n"
          ]
        },
        {
          "output_type": "display_data",
          "data": {
            "text/plain": [
              "<Figure size 432x288 with 1 Axes>"
            ],
            "image/png": "[encoded data removed]"
          },
          "metadata": {
            "needs_background": "light"
          }
        }
      ]
    },
    {
      "cell_type": "code",
      "source": [
        "# 컬럼별 unique 값 확인 \n",
        "ind_list = []\n",
        "unique_count = []\n",
        "\n",
        "for col in df.columns:\n",
        "  ind_list.append(col)\n",
        "  unique_count.append(len(df[col].unique()))\n",
        "\n",
        "final_series = pd.DataFrame({'Feature': ind_list, 'Unique values': unique_count}).sort_values(by = 'Unique values', ascending = False).reset_index(drop=True).style.bar()\n",
        "final_series"
      ],
      "metadata": {
        "colab": {
          "base_uri": "https://localhost:8080/",
          "height": 1000
        },
        "id": "pIhA1Le6bVND",
        "outputId": "913c3e40-65c4-4532-845c-9d8a36bb1f6d"
      },
      "execution_count": 216,
      "outputs": [
        {
          "output_type": "execute_result",
          "data": {
            "text/plain": [
              "<pandas.io.formats.style.Styler at 0x7f652be2c990>"
            ],
            "text/html": [
              "<style type=\"text/css\">\n",
              "#T_53a22_row0_col1 {\n",
              "  width: 10em;\n",
              "  height: 80%;\n",
              "  background: linear-gradient(90deg,#d65f5f 100.0%, transparent 100.0%);\n",
              "}\n",
              "#T_53a22_row1_col1, #T_53a22_row2_col1 {\n",
              "  width: 10em;\n",
              "  height: 80%;\n",
              "  background: linear-gradient(90deg,#d65f5f 61.2%, transparent 61.2%);\n",
              "}\n",
              "#T_53a22_row3_col1, #T_53a22_row4_col1 {\n",
              "  width: 10em;\n",
              "  height: 80%;\n",
              "  background: linear-gradient(90deg,#d65f5f 54.2%, transparent 54.2%);\n",
              "}\n",
              "#T_53a22_row5_col1, #T_53a22_row6_col1 {\n",
              "  width: 10em;\n",
              "  height: 80%;\n",
              "  background: linear-gradient(90deg,#d65f5f 48.0%, transparent 48.0%);\n",
              "}\n",
              "#T_53a22_row7_col1, #T_53a22_row8_col1 {\n",
              "  width: 10em;\n",
              "  height: 80%;\n",
              "  background: linear-gradient(90deg,#d65f5f 47.9%, transparent 47.9%);\n",
              "}\n",
              "#T_53a22_row9_col1 {\n",
              "  width: 10em;\n",
              "  height: 80%;\n",
              "  background: linear-gradient(90deg,#d65f5f 41.9%, transparent 41.9%);\n",
              "}\n",
              "#T_53a22_row10_col1 {\n",
              "  width: 10em;\n",
              "  height: 80%;\n",
              "  background: linear-gradient(90deg,#d65f5f 41.6%, transparent 41.6%);\n",
              "}\n",
              "#T_53a22_row11_col1, #T_53a22_row12_col1, #T_53a22_row13_col1, #T_53a22_row14_col1, #T_53a22_row15_col1, #T_53a22_row16_col1 {\n",
              "  width: 10em;\n",
              "  height: 80%;\n",
              "  background: linear-gradient(90deg,#d65f5f 1.5%, transparent 1.5%);\n",
              "}\n",
              "#T_53a22_row17_col1, #T_53a22_row18_col1 {\n",
              "  width: 10em;\n",
              "  height: 80%;\n",
              "  background: linear-gradient(90deg,#d65f5f 0.7%, transparent 0.7%);\n",
              "}\n",
              "#T_53a22_row19_col1, #T_53a22_row20_col1, #T_53a22_row21_col1 {\n",
              "  width: 10em;\n",
              "  height: 80%;\n",
              "  background: linear-gradient(90deg,#d65f5f 0.3%, transparent 0.3%);\n",
              "}\n",
              "#T_53a22_row22_col1, #T_53a22_row23_col1, #T_53a22_row24_col1, #T_53a22_row25_col1, #T_53a22_row26_col1, #T_53a22_row27_col1, #T_53a22_row28_col1 {\n",
              "  width: 10em;\n",
              "  height: 80%;\n",
              "  background: linear-gradient(90deg,#d65f5f 0.2%, transparent 0.2%);\n",
              "}\n",
              "#T_53a22_row29_col1, #T_53a22_row30_col1, #T_53a22_row31_col1, #T_53a22_row32_col1 {\n",
              "  width: 10em;\n",
              "  height: 80%;\n",
              "  background: linear-gradient(90deg,#d65f5f 0.0%, transparent 0.0%);\n",
              "}\n",
              "#T_53a22_row33_col1, #T_53a22_row34_col1, #T_53a22_row35_col1, #T_53a22_row36_col1, #T_53a22_row37_col1, #T_53a22_row38_col1, #T_53a22_row39_col1, #T_53a22_row40_col1 {\n",
              "  width: 10em;\n",
              "  height: 80%;\n",
              "}\n",
              "</style>\n",
              "<table id=\"T_53a22_\" class=\"dataframe\">\n",
              "  <thead>\n",
              "    <tr>\n",
              "      <th class=\"blank level0\" >&nbsp;</th>\n",
              "      <th class=\"col_heading level0 col0\" >Feature</th>\n",
              "      <th class=\"col_heading level0 col1\" >Unique values</th>\n",
              "    </tr>\n",
              "  </thead>\n",
              "  <tbody>\n",
              "    <tr>\n",
              "      <th id=\"T_53a22_level0_row0\" class=\"row_heading level0 row0\" >0</th>\n",
              "      <td id=\"T_53a22_row0_col0\" class=\"data row0 col0\" >gameId</td>\n",
              "      <td id=\"T_53a22_row0_col1\" class=\"data row0 col1\" >9879</td>\n",
              "    </tr>\n",
              "    <tr>\n",
              "      <th id=\"T_53a22_level0_row1\" class=\"row_heading level0 row1\" >1</th>\n",
              "      <td id=\"T_53a22_row1_col0\" class=\"data row1 col0\" >redGoldDiff</td>\n",
              "      <td id=\"T_53a22_row1_col1\" class=\"data row1 col1\" >6047</td>\n",
              "    </tr>\n",
              "    <tr>\n",
              "      <th id=\"T_53a22_level0_row2\" class=\"row_heading level0 row2\" >2</th>\n",
              "      <td id=\"T_53a22_row2_col0\" class=\"data row2 col0\" >blueGoldDiff</td>\n",
              "      <td id=\"T_53a22_row2_col1\" class=\"data row2 col1\" >6047</td>\n",
              "    </tr>\n",
              "    <tr>\n",
              "      <th id=\"T_53a22_level0_row3\" class=\"row_heading level0 row3\" >3</th>\n",
              "      <td id=\"T_53a22_row3_col0\" class=\"data row3 col0\" >redExperienceDiff</td>\n",
              "      <td id=\"T_53a22_row3_col1\" class=\"data row3 col1\" >5356</td>\n",
              "    </tr>\n",
              "    <tr>\n",
              "      <th id=\"T_53a22_level0_row4\" class=\"row_heading level0 row4\" >4</th>\n",
              "      <td id=\"T_53a22_row4_col0\" class=\"data row4 col0\" >blueExperienceDiff</td>\n",
              "      <td id=\"T_53a22_row4_col1\" class=\"data row4 col1\" >5356</td>\n",
              "    </tr>\n",
              "    <tr>\n",
              "      <th id=\"T_53a22_level0_row5\" class=\"row_heading level0 row5\" >5</th>\n",
              "      <td id=\"T_53a22_row5_col0\" class=\"data row5 col0\" >blueTotalGold</td>\n",
              "      <td id=\"T_53a22_row5_col1\" class=\"data row5 col1\" >4739</td>\n",
              "    </tr>\n",
              "    <tr>\n",
              "      <th id=\"T_53a22_level0_row6\" class=\"row_heading level0 row6\" >6</th>\n",
              "      <td id=\"T_53a22_row6_col0\" class=\"data row6 col0\" >blueGoldPerMin</td>\n",
              "      <td id=\"T_53a22_row6_col1\" class=\"data row6 col1\" >4739</td>\n",
              "    </tr>\n",
              "    <tr>\n",
              "      <th id=\"T_53a22_level0_row7\" class=\"row_heading level0 row7\" >7</th>\n",
              "      <td id=\"T_53a22_row7_col0\" class=\"data row7 col0\" >redGoldPerMin</td>\n",
              "      <td id=\"T_53a22_row7_col1\" class=\"data row7 col1\" >4732</td>\n",
              "    </tr>\n",
              "    <tr>\n",
              "      <th id=\"T_53a22_level0_row8\" class=\"row_heading level0 row8\" >8</th>\n",
              "      <td id=\"T_53a22_row8_col0\" class=\"data row8 col0\" >redTotalGold</td>\n",
              "      <td id=\"T_53a22_row8_col1\" class=\"data row8 col1\" >4732</td>\n",
              "    </tr>\n",
              "    <tr>\n",
              "      <th id=\"T_53a22_level0_row9\" class=\"row_heading level0 row9\" >9</th>\n",
              "      <td id=\"T_53a22_row9_col0\" class=\"data row9 col0\" >blueTotalExperience</td>\n",
              "      <td id=\"T_53a22_row9_col1\" class=\"data row9 col1\" >4143</td>\n",
              "    </tr>\n",
              "    <tr>\n",
              "      <th id=\"T_53a22_level0_row10\" class=\"row_heading level0 row10\" >10</th>\n",
              "      <td id=\"T_53a22_row10_col0\" class=\"data row10 col0\" >redTotalExperience</td>\n",
              "      <td id=\"T_53a22_row10_col1\" class=\"data row10 col1\" >4113</td>\n",
              "    </tr>\n",
              "    <tr>\n",
              "      <th id=\"T_53a22_level0_row11\" class=\"row_heading level0 row11\" >11</th>\n",
              "      <td id=\"T_53a22_row11_col0\" class=\"data row11 col0\" >redCSPerMin</td>\n",
              "      <td id=\"T_53a22_row11_col1\" class=\"data row11 col1\" >153</td>\n",
              "    </tr>\n",
              "    <tr>\n",
              "      <th id=\"T_53a22_level0_row12\" class=\"row_heading level0 row12\" >12</th>\n",
              "      <td id=\"T_53a22_row12_col0\" class=\"data row12 col0\" >redTotalMinionsKilled</td>\n",
              "      <td id=\"T_53a22_row12_col1\" class=\"data row12 col1\" >153</td>\n",
              "    </tr>\n",
              "    <tr>\n",
              "      <th id=\"T_53a22_level0_row13\" class=\"row_heading level0 row13\" >13</th>\n",
              "      <td id=\"T_53a22_row13_col0\" class=\"data row13 col0\" >redWardsPlaced</td>\n",
              "      <td id=\"T_53a22_row13_col1\" class=\"data row13 col1\" >151</td>\n",
              "    </tr>\n",
              "    <tr>\n",
              "      <th id=\"T_53a22_level0_row14\" class=\"row_heading level0 row14\" >14</th>\n",
              "      <td id=\"T_53a22_row14_col0\" class=\"data row14 col0\" >blueTotalMinionsKilled</td>\n",
              "      <td id=\"T_53a22_row14_col1\" class=\"data row14 col1\" >148</td>\n",
              "    </tr>\n",
              "    <tr>\n",
              "      <th id=\"T_53a22_level0_row15\" class=\"row_heading level0 row15\" >15</th>\n",
              "      <td id=\"T_53a22_row15_col0\" class=\"data row15 col0\" >blueCSPerMin</td>\n",
              "      <td id=\"T_53a22_row15_col1\" class=\"data row15 col1\" >148</td>\n",
              "    </tr>\n",
              "    <tr>\n",
              "      <th id=\"T_53a22_level0_row16\" class=\"row_heading level0 row16\" >16</th>\n",
              "      <td id=\"T_53a22_row16_col0\" class=\"data row16 col0\" >blueWardsPlaced</td>\n",
              "      <td id=\"T_53a22_row16_col1\" class=\"data row16 col1\" >147</td>\n",
              "    </tr>\n",
              "    <tr>\n",
              "      <th id=\"T_53a22_level0_row17\" class=\"row_heading level0 row17\" >17</th>\n",
              "      <td id=\"T_53a22_row17_col0\" class=\"data row17 col0\" >redTotalJungleMinionsKilled</td>\n",
              "      <td id=\"T_53a22_row17_col1\" class=\"data row17 col1\" >75</td>\n",
              "    </tr>\n",
              "    <tr>\n",
              "      <th id=\"T_53a22_level0_row18\" class=\"row_heading level0 row18\" >18</th>\n",
              "      <td id=\"T_53a22_row18_col0\" class=\"data row18 col0\" >blueTotalJungleMinionsKilled</td>\n",
              "      <td id=\"T_53a22_row18_col1\" class=\"data row18 col1\" >74</td>\n",
              "    </tr>\n",
              "    <tr>\n",
              "      <th id=\"T_53a22_level0_row19\" class=\"row_heading level0 row19\" >19</th>\n",
              "      <td id=\"T_53a22_row19_col0\" class=\"data row19 col0\" >blueAssists</td>\n",
              "      <td id=\"T_53a22_row19_col1\" class=\"data row19 col1\" >30</td>\n",
              "    </tr>\n",
              "    <tr>\n",
              "      <th id=\"T_53a22_level0_row20\" class=\"row_heading level0 row20\" >20</th>\n",
              "      <td id=\"T_53a22_row20_col0\" class=\"data row20 col0\" >redAssists</td>\n",
              "      <td id=\"T_53a22_row20_col1\" class=\"data row20 col1\" >28</td>\n",
              "    </tr>\n",
              "    <tr>\n",
              "      <th id=\"T_53a22_level0_row21\" class=\"row_heading level0 row21\" >21</th>\n",
              "      <td id=\"T_53a22_row21_col0\" class=\"data row21 col0\" >blueWardsDestroyed</td>\n",
              "      <td id=\"T_53a22_row21_col1\" class=\"data row21 col1\" >27</td>\n",
              "    </tr>\n",
              "    <tr>\n",
              "      <th id=\"T_53a22_level0_row22\" class=\"row_heading level0 row22\" >22</th>\n",
              "      <td id=\"T_53a22_row22_col0\" class=\"data row22 col0\" >redWardsDestroyed</td>\n",
              "      <td id=\"T_53a22_row22_col1\" class=\"data row22 col1\" >25</td>\n",
              "    </tr>\n",
              "    <tr>\n",
              "      <th id=\"T_53a22_level0_row23\" class=\"row_heading level0 row23\" >23</th>\n",
              "      <td id=\"T_53a22_row23_col0\" class=\"data row23 col0\" >redDeaths</td>\n",
              "      <td id=\"T_53a22_row23_col1\" class=\"data row23 col1\" >21</td>\n",
              "    </tr>\n",
              "    <tr>\n",
              "      <th id=\"T_53a22_level0_row24\" class=\"row_heading level0 row24\" >24</th>\n",
              "      <td id=\"T_53a22_row24_col0\" class=\"data row24 col0\" >redKills</td>\n",
              "      <td id=\"T_53a22_row24_col1\" class=\"data row24 col1\" >21</td>\n",
              "    </tr>\n",
              "    <tr>\n",
              "      <th id=\"T_53a22_level0_row25\" class=\"row_heading level0 row25\" >25</th>\n",
              "      <td id=\"T_53a22_row25_col0\" class=\"data row25 col0\" >blueKills</td>\n",
              "      <td id=\"T_53a22_row25_col1\" class=\"data row25 col1\" >21</td>\n",
              "    </tr>\n",
              "    <tr>\n",
              "      <th id=\"T_53a22_level0_row26\" class=\"row_heading level0 row26\" >26</th>\n",
              "      <td id=\"T_53a22_row26_col0\" class=\"data row26 col0\" >blueDeaths</td>\n",
              "      <td id=\"T_53a22_row26_col1\" class=\"data row26 col1\" >21</td>\n",
              "    </tr>\n",
              "    <tr>\n",
              "      <th id=\"T_53a22_level0_row27\" class=\"row_heading level0 row27\" >27</th>\n",
              "      <td id=\"T_53a22_row27_col0\" class=\"data row27 col0\" >redAvgLevel</td>\n",
              "      <td id=\"T_53a22_row27_col1\" class=\"data row27 col1\" >18</td>\n",
              "    </tr>\n",
              "    <tr>\n",
              "      <th id=\"T_53a22_level0_row28\" class=\"row_heading level0 row28\" >28</th>\n",
              "      <td id=\"T_53a22_row28_col0\" class=\"data row28 col0\" >blueAvgLevel</td>\n",
              "      <td id=\"T_53a22_row28_col1\" class=\"data row28 col1\" >17</td>\n",
              "    </tr>\n",
              "    <tr>\n",
              "      <th id=\"T_53a22_level0_row29\" class=\"row_heading level0 row29\" >29</th>\n",
              "      <td id=\"T_53a22_row29_col0\" class=\"data row29 col0\" >blueTowersDestroyed</td>\n",
              "      <td id=\"T_53a22_row29_col1\" class=\"data row29 col1\" >5</td>\n",
              "    </tr>\n",
              "    <tr>\n",
              "      <th id=\"T_53a22_level0_row30\" class=\"row_heading level0 row30\" >30</th>\n",
              "      <td id=\"T_53a22_row30_col0\" class=\"data row30 col0\" >blueEliteMonsters</td>\n",
              "      <td id=\"T_53a22_row30_col1\" class=\"data row30 col1\" >3</td>\n",
              "    </tr>\n",
              "    <tr>\n",
              "      <th id=\"T_53a22_level0_row31\" class=\"row_heading level0 row31\" >31</th>\n",
              "      <td id=\"T_53a22_row31_col0\" class=\"data row31 col0\" >redEliteMonsters</td>\n",
              "      <td id=\"T_53a22_row31_col1\" class=\"data row31 col1\" >3</td>\n",
              "    </tr>\n",
              "    <tr>\n",
              "      <th id=\"T_53a22_level0_row32\" class=\"row_heading level0 row32\" >32</th>\n",
              "      <td id=\"T_53a22_row32_col0\" class=\"data row32 col0\" >redTowersDestroyed</td>\n",
              "      <td id=\"T_53a22_row32_col1\" class=\"data row32 col1\" >3</td>\n",
              "    </tr>\n",
              "    <tr>\n",
              "      <th id=\"T_53a22_level0_row33\" class=\"row_heading level0 row33\" >33</th>\n",
              "      <td id=\"T_53a22_row33_col0\" class=\"data row33 col0\" >redFirstBlood</td>\n",
              "      <td id=\"T_53a22_row33_col1\" class=\"data row33 col1\" >2</td>\n",
              "    </tr>\n",
              "    <tr>\n",
              "      <th id=\"T_53a22_level0_row34\" class=\"row_heading level0 row34\" >34</th>\n",
              "      <td id=\"T_53a22_row34_col0\" class=\"data row34 col0\" >redDragons</td>\n",
              "      <td id=\"T_53a22_row34_col1\" class=\"data row34 col1\" >2</td>\n",
              "    </tr>\n",
              "    <tr>\n",
              "      <th id=\"T_53a22_level0_row35\" class=\"row_heading level0 row35\" >35</th>\n",
              "      <td id=\"T_53a22_row35_col0\" class=\"data row35 col0\" >redHeralds</td>\n",
              "      <td id=\"T_53a22_row35_col1\" class=\"data row35 col1\" >2</td>\n",
              "    </tr>\n",
              "    <tr>\n",
              "      <th id=\"T_53a22_level0_row36\" class=\"row_heading level0 row36\" >36</th>\n",
              "      <td id=\"T_53a22_row36_col0\" class=\"data row36 col0\" >blueWins</td>\n",
              "      <td id=\"T_53a22_row36_col1\" class=\"data row36 col1\" >2</td>\n",
              "    </tr>\n",
              "    <tr>\n",
              "      <th id=\"T_53a22_level0_row37\" class=\"row_heading level0 row37\" >37</th>\n",
              "      <td id=\"T_53a22_row37_col0\" class=\"data row37 col0\" >blueFirstBlood</td>\n",
              "      <td id=\"T_53a22_row37_col1\" class=\"data row37 col1\" >2</td>\n",
              "    </tr>\n",
              "    <tr>\n",
              "      <th id=\"T_53a22_level0_row38\" class=\"row_heading level0 row38\" >38</th>\n",
              "      <td id=\"T_53a22_row38_col0\" class=\"data row38 col0\" >blueHeralds</td>\n",
              "      <td id=\"T_53a22_row38_col1\" class=\"data row38 col1\" >2</td>\n",
              "    </tr>\n",
              "    <tr>\n",
              "      <th id=\"T_53a22_level0_row39\" class=\"row_heading level0 row39\" >39</th>\n",
              "      <td id=\"T_53a22_row39_col0\" class=\"data row39 col0\" >blueDragons</td>\n",
              "      <td id=\"T_53a22_row39_col1\" class=\"data row39 col1\" >2</td>\n",
              "    </tr>\n",
              "    <tr>\n",
              "      <th id=\"T_53a22_level0_row40\" class=\"row_heading level0 row40\" >40</th>\n",
              "      <td id=\"T_53a22_row40_col0\" class=\"data row40 col0\" >team_won</td>\n",
              "      <td id=\"T_53a22_row40_col1\" class=\"data row40 col1\" >2</td>\n",
              "    </tr>\n",
              "  </tbody>\n",
              "</table>\n"
            ]
          },
          "metadata": {},
          "execution_count": 216
        }
      ]
    },
    {
      "cell_type": "code",
      "source": [
        "def findTeam(x,blue):\n",
        "    if x.team.iloc[0]==blue:\n",
        "        if x['count'].iloc[0]>x['count'].iloc[1]:\n",
        "            return 'blue'\n",
        "        else:\n",
        "            return 'red'\n",
        "    else:\n",
        "        if x['count'].iloc[0]>x['count'].iloc[1]:\n",
        "            return 'red'\n",
        "        else:\n",
        "            return 'blue'\n",
        "def feature_report(win_team,red,blue):\n",
        "    temp_df = pd.melt(df[df.team_won==win_team],id_vars='gameId', value_vars=[red,blue],var_name='team',value_name='count').sort_values(by='gameId')\n",
        "    return temp_df.groupby('gameId').apply(findTeam,blue).value_counts()"
      ],
      "metadata": {
        "id": "WxDH7J39ciZP"
      },
      "execution_count": 218,
      "outputs": []
    },
    {
      "cell_type": "code",
      "source": [
        "# 각 팀별 승리 시 와드 배치 수 차이 \n",
        "# 레드팀이 승리했을 때 \n",
        "res = feature_report('red','redWardsPlaced','blueWardsPlaced')\n",
        "print(res,\"\\n\")\n",
        "print(\"레드팀이 이겼을 때, {} 팀은 블루팀보다 {:.3f} 배만큼 와드를 많이 배치했다. \".\n",
        "      format(res[res==res.max()].index[0], res[0]/res[1]))\n",
        "\n",
        "# 블루팀이 이겼을 때 \n",
        "res = feature_report('red','redWardsPlaced','blueWardsPlaced')\n",
        "print(res,\"\\n\")\n",
        "print(\"블루팀이 이겼을 때, {} 팀은 레드팀보다, {:.3f} 배만큼 와드를 많이 배치했다.\".\n",
        "      format(res[res==res.max()].index[0], res[0]/res[1]))"
      ],
      "metadata": {
        "colab": {
          "base_uri": "https://localhost:8080/"
        },
        "id": "t7Q7u9rnbbNY",
        "outputId": "d91b4b1e-c14d-44cf-bb4b-deff6a8d94cd"
      },
      "execution_count": 219,
      "outputs": [
        {
          "output_type": "stream",
          "name": "stdout",
          "text": [
            "red     2608\n",
            "blue    2341\n",
            "dtype: int64 \n",
            "\n",
            "레드팀이 이겼을 때, red 팀은 블루팀보다 1.114 배만큼 와드를 많이 배치했다. \n",
            "red     2608\n",
            "blue    2341\n",
            "dtype: int64 \n",
            "\n",
            "블루팀이 이겼을 때, red 팀은 레드팀보다, 1.114 배만큼 와드를 많이 배치했다.\n"
          ]
        }
      ]
    },
    {
      "cell_type": "code",
      "source": [
        "# 각 팀별 승리 시 킬 수 차이 비교\n",
        "# 레드팀 승리 시 \n",
        "res = feature_report('red','redKills','blueKills')\n",
        "print(res,\"\\n\")\n",
        "print(\"레드팀이 이겼을 때, {} 팀은 블루팀보다, {:.3f} 배만큼 킬을 많이 했다.\".\n",
        "      format(res[res==res.max()].index[0], res[0]/res[1]))\n",
        "\n",
        "# 블루팀 승리 시 \n",
        "res = feature_report('blue','redKills','blueKills')\n",
        "print(res,\"\\n\")\n",
        "print(\"블루팀이 이겼을 때, {} 팀은 레드팀보다, {:.3f} 배만큼 킬을 많이 했다\".\n",
        "      format(res[res==res.max()].index[0], res[0]/res[1]))"
      ],
      "metadata": {
        "colab": {
          "base_uri": "https://localhost:8080/"
        },
        "id": "FYXqzDSmc4Wl",
        "outputId": "af1c61d1-7406-4476-cfe2-a728b5c14f45"
      },
      "execution_count": 220,
      "outputs": [
        {
          "output_type": "stream",
          "name": "stdout",
          "text": [
            "red     3480\n",
            "blue    1469\n",
            "dtype: int64 \n",
            "\n",
            "레드팀이 이겼을 때, red 팀은 블루팀보다, 2.369 배만큼 킬을 많이 했다.\n",
            "blue    3476\n",
            "red     1454\n",
            "dtype: int64 \n",
            "\n",
            "블루팀이 이겼을 때, blue 팀은 레드팀보다, 2.391 배만큼 킬을 많이 했다\n"
          ]
        }
      ]
    },
    {
      "cell_type": "code",
      "source": [
        "# 각 팀별 승리 시 부순 타워 수 비교\n",
        "res = feature_report('red','redTowersDestroyed','blueTowersDestroyed')\n",
        "print(res,\"\\n\")\n",
        "print(\"레드팀이 이겼을 때, {} 팀은 블루팀보다, {:.3f} 배만큼 타워를 많이 부쉈다\".\n",
        "      format(res[res==res.max()].index[0], res[0]/res[1]))\n",
        "\n",
        "res = feature_report('blue','redTowersDestroyed','blueTowersDestroyed')\n",
        "print(res,\"\\n\")\n",
        "print(\"블루팀이 이겼을 때, {} 팀은 레드팀보다, {:.3f} 배만큼 타워를 많이 부쉈다\".\n",
        "      format(res[res==res.max()].index[0], res[0]/res[1]))"
      ],
      "metadata": {
        "colab": {
          "base_uri": "https://localhost:8080/"
        },
        "id": "LgA4pfDSdRCr",
        "outputId": "be0533ab-2b7a-446f-d5f4-0600ef01acc8"
      },
      "execution_count": 221,
      "outputs": [
        {
          "output_type": "stream",
          "name": "stdout",
          "text": [
            "red     2592\n",
            "blue    2357\n",
            "dtype: int64 \n",
            "\n",
            "레드팀이 이겼을 때, red 팀은 블루팀보다, 1.100 배만큼 타워를 많이 부쉈다\n",
            "blue    2585\n",
            "red     2345\n",
            "dtype: int64 \n",
            "\n",
            "블루팀이 이겼을 때, blue 팀은 레드팀보다, 1.102 배만큼 타워를 많이 부쉈다\n"
          ]
        }
      ]
    },
    {
      "cell_type": "markdown",
      "source": [
        "### **기준모델 설정** "
      ],
      "metadata": {
        "id": "QOqAE4w4dlhs"
      }
    },
    {
      "cell_type": "code",
      "source": [
        "target = 'blueWins'\n",
        "train, val = train_test_split(train, train_size=0.80, test_size=0.20, stratify=train[target], random_state=2)\n",
        "train.shape, val.shape, test.shape"
      ],
      "metadata": {
        "colab": {
          "base_uri": "https://localhost:8080/"
        },
        "id": "7G4Riiv3a8wv",
        "outputId": "894e2ee1-9d4e-478d-99e5-c4134f242375"
      },
      "execution_count": 259,
      "outputs": [
        {
          "output_type": "execute_result",
          "data": {
            "text/plain": [
              "((5057, 41), (1265, 41), (1976, 41))"
            ]
          },
          "metadata": {},
          "execution_count": 259
        }
      ]
    },
    {
      "cell_type": "code",
      "source": [
        "features = train.drop(columns=[target]).columns\n",
        "\n",
        "X_train = train[features]\n",
        "y_train = train[target]\n",
        "X_val = val[features]\n",
        "y_val = val[target]\n",
        "X_test = test[features]"
      ],
      "metadata": {
        "id": "TIa5U79bdwN2"
      },
      "execution_count": 257,
      "outputs": []
    },
    {
      "cell_type": "code",
      "source": [
        "predict = y_train.mean()\n",
        "predict"
      ],
      "metadata": {
        "colab": {
          "base_uri": "https://localhost:8080/"
        },
        "id": "Y1Iy5sGYg2qO",
        "outputId": "bdec4ce1-8619-4c94-baaa-f04fdf8c95a5"
      },
      "execution_count": 266,
      "outputs": [
        {
          "output_type": "execute_result",
          "data": {
            "text/plain": [
              "0.4987345776652958"
            ]
          },
          "metadata": {},
          "execution_count": 266
        }
      ]
    },
    {
      "cell_type": "code",
      "source": [
        "from sklearn.linear_model import LinearRegression\n",
        "\n",
        "B_model = LinearRegression() # 모델 정의\n",
        "B_model.fit(X_train, y_train) # 학습"
      ],
      "metadata": {
        "colab": {
          "base_uri": "https://localhost:8080/",
          "height": 363
        },
        "id": "nMqGDzz34HYt",
        "outputId": "10a7711d-0917-490d-c4cc-d4f89f6f50c7"
      },
      "execution_count": 261,
      "outputs": [
        {
          "output_type": "error",
          "ename": "ValueError",
          "evalue": "ignored",
          "traceback": [
            "\u001b[0;31m---------------------------------------------------------------------------\u001b[0m",
            "\u001b[0;31mValueError\u001b[0m                                Traceback (most recent call last)",
            "\u001b[0;32m<ipython-input-261-18b4c93ffe5d>\u001b[0m in \u001b[0;36m<module>\u001b[0;34m()\u001b[0m\n\u001b[1;32m      2\u001b[0m \u001b[0;34m\u001b[0m\u001b[0m\n\u001b[1;32m      3\u001b[0m \u001b[0mB_model\u001b[0m \u001b[0;34m=\u001b[0m \u001b[0mLinearRegression\u001b[0m\u001b[0;34m(\u001b[0m\u001b[0;34m)\u001b[0m \u001b[0;31m# 모델 정의\u001b[0m\u001b[0;34m\u001b[0m\u001b[0;34m\u001b[0m\u001b[0m\n\u001b[0;32m----> 4\u001b[0;31m \u001b[0mB_model\u001b[0m\u001b[0;34m.\u001b[0m\u001b[0mfit\u001b[0m\u001b[0;34m(\u001b[0m\u001b[0mX_train\u001b[0m\u001b[0;34m,\u001b[0m \u001b[0my_train\u001b[0m\u001b[0;34m)\u001b[0m \u001b[0;31m# 학습\u001b[0m\u001b[0;34m\u001b[0m\u001b[0;34m\u001b[0m\u001b[0m\n\u001b[0m",
            "\u001b[0;32m/usr/local/lib/python3.7/dist-packages/sklearn/linear_model/_base.py\u001b[0m in \u001b[0;36mfit\u001b[0;34m(self, X, y, sample_weight)\u001b[0m\n\u001b[1;32m    661\u001b[0m \u001b[0;34m\u001b[0m\u001b[0m\n\u001b[1;32m    662\u001b[0m         X, y = self._validate_data(\n\u001b[0;32m--> 663\u001b[0;31m             \u001b[0mX\u001b[0m\u001b[0;34m,\u001b[0m \u001b[0my\u001b[0m\u001b[0;34m,\u001b[0m \u001b[0maccept_sparse\u001b[0m\u001b[0;34m=\u001b[0m\u001b[0maccept_sparse\u001b[0m\u001b[0;34m,\u001b[0m \u001b[0my_numeric\u001b[0m\u001b[0;34m=\u001b[0m\u001b[0;32mTrue\u001b[0m\u001b[0;34m,\u001b[0m \u001b[0mmulti_output\u001b[0m\u001b[0;34m=\u001b[0m\u001b[0;32mTrue\u001b[0m\u001b[0;34m\u001b[0m\u001b[0;34m\u001b[0m\u001b[0m\n\u001b[0m\u001b[1;32m    664\u001b[0m         )\n\u001b[1;32m    665\u001b[0m \u001b[0;34m\u001b[0m\u001b[0m\n",
            "\u001b[0;32m/usr/local/lib/python3.7/dist-packages/sklearn/base.py\u001b[0m in \u001b[0;36m_validate_data\u001b[0;34m(self, X, y, reset, validate_separately, **check_params)\u001b[0m\n\u001b[1;32m    579\u001b[0m                 \u001b[0my\u001b[0m \u001b[0;34m=\u001b[0m \u001b[0mcheck_array\u001b[0m\u001b[0;34m(\u001b[0m\u001b[0my\u001b[0m\u001b[0;34m,\u001b[0m \u001b[0;34m**\u001b[0m\u001b[0mcheck_y_params\u001b[0m\u001b[0;34m)\u001b[0m\u001b[0;34m\u001b[0m\u001b[0;34m\u001b[0m\u001b[0m\n\u001b[1;32m    580\u001b[0m             \u001b[0;32melse\u001b[0m\u001b[0;34m:\u001b[0m\u001b[0;34m\u001b[0m\u001b[0;34m\u001b[0m\u001b[0m\n\u001b[0;32m--> 581\u001b[0;31m                 \u001b[0mX\u001b[0m\u001b[0;34m,\u001b[0m \u001b[0my\u001b[0m \u001b[0;34m=\u001b[0m \u001b[0mcheck_X_y\u001b[0m\u001b[0;34m(\u001b[0m\u001b[0mX\u001b[0m\u001b[0;34m,\u001b[0m \u001b[0my\u001b[0m\u001b[0;34m,\u001b[0m \u001b[0;34m**\u001b[0m\u001b[0mcheck_params\u001b[0m\u001b[0;34m)\u001b[0m\u001b[0;34m\u001b[0m\u001b[0;34m\u001b[0m\u001b[0m\n\u001b[0m\u001b[1;32m    582\u001b[0m             \u001b[0mout\u001b[0m \u001b[0;34m=\u001b[0m \u001b[0mX\u001b[0m\u001b[0;34m,\u001b[0m \u001b[0my\u001b[0m\u001b[0;34m\u001b[0m\u001b[0;34m\u001b[0m\u001b[0m\n\u001b[1;32m    583\u001b[0m \u001b[0;34m\u001b[0m\u001b[0m\n",
            "\u001b[0;32m/usr/local/lib/python3.7/dist-packages/sklearn/utils/validation.py\u001b[0m in \u001b[0;36mcheck_X_y\u001b[0;34m(X, y, accept_sparse, accept_large_sparse, dtype, order, copy, force_all_finite, ensure_2d, allow_nd, multi_output, ensure_min_samples, ensure_min_features, y_numeric, estimator)\u001b[0m\n\u001b[1;32m    974\u001b[0m         \u001b[0mensure_min_samples\u001b[0m\u001b[0;34m=\u001b[0m\u001b[0mensure_min_samples\u001b[0m\u001b[0;34m,\u001b[0m\u001b[0;34m\u001b[0m\u001b[0;34m\u001b[0m\u001b[0m\n\u001b[1;32m    975\u001b[0m         \u001b[0mensure_min_features\u001b[0m\u001b[0;34m=\u001b[0m\u001b[0mensure_min_features\u001b[0m\u001b[0;34m,\u001b[0m\u001b[0;34m\u001b[0m\u001b[0;34m\u001b[0m\u001b[0m\n\u001b[0;32m--> 976\u001b[0;31m         \u001b[0mestimator\u001b[0m\u001b[0;34m=\u001b[0m\u001b[0mestimator\u001b[0m\u001b[0;34m,\u001b[0m\u001b[0;34m\u001b[0m\u001b[0;34m\u001b[0m\u001b[0m\n\u001b[0m\u001b[1;32m    977\u001b[0m     )\n\u001b[1;32m    978\u001b[0m \u001b[0;34m\u001b[0m\u001b[0m\n",
            "\u001b[0;32m/usr/local/lib/python3.7/dist-packages/sklearn/utils/validation.py\u001b[0m in \u001b[0;36mcheck_array\u001b[0;34m(array, accept_sparse, accept_large_sparse, dtype, order, copy, force_all_finite, ensure_2d, allow_nd, ensure_min_samples, ensure_min_features, estimator)\u001b[0m\n\u001b[1;32m    744\u001b[0m                     \u001b[0marray\u001b[0m \u001b[0;34m=\u001b[0m \u001b[0marray\u001b[0m\u001b[0;34m.\u001b[0m\u001b[0mastype\u001b[0m\u001b[0;34m(\u001b[0m\u001b[0mdtype\u001b[0m\u001b[0;34m,\u001b[0m \u001b[0mcasting\u001b[0m\u001b[0;34m=\u001b[0m\u001b[0;34m\"unsafe\"\u001b[0m\u001b[0;34m,\u001b[0m \u001b[0mcopy\u001b[0m\u001b[0;34m=\u001b[0m\u001b[0;32mFalse\u001b[0m\u001b[0;34m)\u001b[0m\u001b[0;34m\u001b[0m\u001b[0;34m\u001b[0m\u001b[0m\n\u001b[1;32m    745\u001b[0m                 \u001b[0;32melse\u001b[0m\u001b[0;34m:\u001b[0m\u001b[0;34m\u001b[0m\u001b[0;34m\u001b[0m\u001b[0m\n\u001b[0;32m--> 746\u001b[0;31m                     \u001b[0marray\u001b[0m \u001b[0;34m=\u001b[0m \u001b[0mnp\u001b[0m\u001b[0;34m.\u001b[0m\u001b[0masarray\u001b[0m\u001b[0;34m(\u001b[0m\u001b[0marray\u001b[0m\u001b[0;34m,\u001b[0m \u001b[0morder\u001b[0m\u001b[0;34m=\u001b[0m\u001b[0morder\u001b[0m\u001b[0;34m,\u001b[0m \u001b[0mdtype\u001b[0m\u001b[0;34m=\u001b[0m\u001b[0mdtype\u001b[0m\u001b[0;34m)\u001b[0m\u001b[0;34m\u001b[0m\u001b[0;34m\u001b[0m\u001b[0m\n\u001b[0m\u001b[1;32m    747\u001b[0m             \u001b[0;32mexcept\u001b[0m \u001b[0mComplexWarning\u001b[0m \u001b[0;32mas\u001b[0m \u001b[0mcomplex_warning\u001b[0m\u001b[0;34m:\u001b[0m\u001b[0;34m\u001b[0m\u001b[0;34m\u001b[0m\u001b[0m\n\u001b[1;32m    748\u001b[0m                 raise ValueError(\n",
            "\u001b[0;32m/usr/local/lib/python3.7/dist-packages/pandas/core/generic.py\u001b[0m in \u001b[0;36m__array__\u001b[0;34m(self, dtype)\u001b[0m\n\u001b[1;32m   1991\u001b[0m \u001b[0;34m\u001b[0m\u001b[0m\n\u001b[1;32m   1992\u001b[0m     \u001b[0;32mdef\u001b[0m \u001b[0m__array__\u001b[0m\u001b[0;34m(\u001b[0m\u001b[0mself\u001b[0m\u001b[0;34m,\u001b[0m \u001b[0mdtype\u001b[0m\u001b[0;34m:\u001b[0m \u001b[0mNpDtype\u001b[0m \u001b[0;34m|\u001b[0m \u001b[0;32mNone\u001b[0m \u001b[0;34m=\u001b[0m \u001b[0;32mNone\u001b[0m\u001b[0;34m)\u001b[0m \u001b[0;34m->\u001b[0m \u001b[0mnp\u001b[0m\u001b[0;34m.\u001b[0m\u001b[0mndarray\u001b[0m\u001b[0;34m:\u001b[0m\u001b[0;34m\u001b[0m\u001b[0;34m\u001b[0m\u001b[0m\n\u001b[0;32m-> 1993\u001b[0;31m         \u001b[0;32mreturn\u001b[0m \u001b[0mnp\u001b[0m\u001b[0;34m.\u001b[0m\u001b[0masarray\u001b[0m\u001b[0;34m(\u001b[0m\u001b[0mself\u001b[0m\u001b[0;34m.\u001b[0m\u001b[0m_values\u001b[0m\u001b[0;34m,\u001b[0m \u001b[0mdtype\u001b[0m\u001b[0;34m=\u001b[0m\u001b[0mdtype\u001b[0m\u001b[0;34m)\u001b[0m\u001b[0;34m\u001b[0m\u001b[0;34m\u001b[0m\u001b[0m\n\u001b[0m\u001b[1;32m   1994\u001b[0m \u001b[0;34m\u001b[0m\u001b[0m\n\u001b[1;32m   1995\u001b[0m     def __array_wrap__(\n",
            "\u001b[0;31mValueError\u001b[0m: could not convert string to float: 'red'"
          ]
        }
      ]
    },
    {
      "cell_type": "markdown",
      "source": [
        "### **Feature Engineering**"
      ],
      "metadata": {
        "id": "IHt_G6hagPLJ"
      }
    },
    {
      "cell_type": "code",
      "source": [
        "# 새로운 피쳐 함수 생성 \n",
        "def getData():\n",
        "    df2 = pd.DataFrame()\n",
        "    df2['kill'] = df['blueKills'] - df['redKills']\n",
        "    df2['totalGold'] = df['blueTotalGold'] - df['redTotalGold']\n",
        "    df2['avgLevel'] = df['blueAvgLevel'] - df['redAvgLevel']\n",
        "    df2['goldDiff'] = df['blueGoldDiff'] - df['redGoldDiff']\n",
        "    df2['expDiff'] = df['blueExperienceDiff'] - df['redExperienceDiff']\n",
        "    df2['goldPerMin'] = df['blueGoldPerMin'] - df['redGoldPerMin']\n",
        "    df2['totalExp'] = df['blueTotalExperience'] - df['redTotalExperience']\n",
        "    \n",
        "    df2['target'] = df['blueWins']\n",
        "    return df2"
      ],
      "metadata": {
        "id": "bhLBIQNJbCk6"
      },
      "execution_count": 236,
      "outputs": []
    },
    {
      "cell_type": "code",
      "source": [
        "# 데이터 정규화 함수 생성 \n",
        "def scale_data(dfs):\n",
        "    scaler = StandardScaler()\n",
        "    scaler.fit(df2.drop('target',axis=1))\n",
        "    out = []\n",
        "    out.append(scaler)\n",
        "    for df in dfs:\n",
        "        out.append(scaler.transform(df))\n",
        "    return out"
      ],
      "metadata": {
        "id": "viQtCWeA64Gs"
      },
      "execution_count": 227,
      "outputs": []
    },
    {
      "cell_type": "code",
      "source": [
        "# 데이터 재구분 \n",
        "def splitData(df2):\n",
        "    X = df2.iloc[:,:-1] # taget 열, 모든 행만 사용 \n",
        "    y = df2.iloc[:,-1] # taget 열을 제외한 모든 행, 열 사용 \n",
        "    X_train, X_test, y_train, y_test = train_test_split(X,y,test_size=0.2, random_state=111)\n",
        "    return X_train, X_test, y_train, y_test"
      ],
      "metadata": {
        "id": "k9woy_zrf6hQ"
      },
      "execution_count": 237,
      "outputs": []
    },
    {
      "cell_type": "code",
      "source": [
        "def get_score(clf,X_train,y_train,X_test,y_test):\n",
        "    clf.fit(X_train,y_train)\n",
        "    y_pred_proba = clf.predict_proba(X_test)\n",
        "    y_pred= clf.predict(X_test)\n",
        "    return y_pred_proba, f1_score(y_test, y_pred)"
      ],
      "metadata": {
        "id": "nMqGJDftfxwD"
      },
      "execution_count": 238,
      "outputs": []
    },
    {
      "cell_type": "code",
      "source": [
        "def ROCurve(y_test, y_pred_proba):\n",
        "    lr_precision, lr_recall, _ = precision_recall_curve(y_test,y_pred_proba[:, 1])\n",
        "    plt.plot(lr_recall, lr_precision, marker='.', label='Logistic')\n",
        "    plt.xlabel('Recall')\n",
        "    plt.ylabel('Precision')\n",
        "    return None"
      ],
      "metadata": {
        "id": "OyOK2DWnk_0E"
      },
      "execution_count": 239,
      "outputs": []
    },
    {
      "cell_type": "code",
      "source": [
        "df2 = getData()\n",
        "X_train, X_test, y_train, y_test = splitData(df2)\n",
        "scaler, X_train, X_test = scale_data([X_train, X_test])"
      ],
      "metadata": {
        "id": "TM7gCfJ4aj9c"
      },
      "execution_count": 240,
      "outputs": []
    },
    {
      "cell_type": "code",
      "source": [
        "!pip install category_encoders"
      ],
      "metadata": {
        "colab": {
          "base_uri": "https://localhost:8080/"
        },
        "id": "Rmq7geVqwH1o",
        "outputId": "5adaecf7-33a1-4384-d062-c8c7f8dd2c7c"
      },
      "execution_count": 241,
      "outputs": [
        {
          "output_type": "stream",
          "name": "stdout",
          "text": [
            "Requirement already satisfied: category_encoders in /usr/local/lib/python3.7/dist-packages (2.4.1)\n",
            "Requirement already satisfied: statsmodels>=0.9.0 in /usr/local/lib/python3.7/dist-packages (from category_encoders) (0.10.2)\n",
            "Requirement already satisfied: numpy>=1.14.0 in /usr/local/lib/python3.7/dist-packages (from category_encoders) (1.21.6)\n",
            "Requirement already satisfied: scikit-learn>=0.20.0 in /usr/local/lib/python3.7/dist-packages (from category_encoders) (1.0.2)\n",
            "Requirement already satisfied: scipy>=1.0.0 in /usr/local/lib/python3.7/dist-packages (from category_encoders) (1.4.1)\n",
            "Requirement already satisfied: patsy>=0.5.1 in /usr/local/lib/python3.7/dist-packages (from category_encoders) (0.5.2)\n",
            "Requirement already satisfied: pandas>=0.21.1 in /usr/local/lib/python3.7/dist-packages (from category_encoders) (1.3.5)\n",
            "Requirement already satisfied: pytz>=2017.3 in /usr/local/lib/python3.7/dist-packages (from pandas>=0.21.1->category_encoders) (2022.1)\n",
            "Requirement already satisfied: python-dateutil>=2.7.3 in /usr/local/lib/python3.7/dist-packages (from pandas>=0.21.1->category_encoders) (2.8.2)\n",
            "Requirement already satisfied: six in /usr/local/lib/python3.7/dist-packages (from patsy>=0.5.1->category_encoders) (1.15.0)\n",
            "Requirement already satisfied: joblib>=0.11 in /usr/local/lib/python3.7/dist-packages (from scikit-learn>=0.20.0->category_encoders) (1.1.0)\n",
            "Requirement already satisfied: threadpoolctl>=2.0.0 in /usr/local/lib/python3.7/dist-packages (from scikit-learn>=0.20.0->category_encoders) (3.1.0)\n"
          ]
        }
      ]
    },
    {
      "cell_type": "code",
      "source": [
        "# 교차검증\n",
        "\n",
        "from category_encoders import TargetEncoder\n",
        "from sklearn.impute import SimpleImputer\n",
        "from sklearn.pipeline import make_pipeline\n",
        "from sklearn.feature_selection import f_regression, SelectKBest\n",
        "from sklearn.ensemble import RandomForestClassifier,AdaBoostClassifier\n",
        "\n",
        "\n",
        "target = 'BlueWins'\n",
        "\n",
        "pipe = make_pipeline(TargetEncoder(min_samples_leaf=1, smoothing=1), SimpleImputer(strategy ='median'),RandomForestClassifier(max_depth = 10, n_jobs= -1, random_state =2))\n",
        "k = 5\n",
        "scores = cross_val_score(pipe, X_train, y_train, cv=k, scoring = 'accuracy')\n",
        "print(scores.mean)\n",
        "print(scores.std())"
      ],
      "metadata": {
        "colab": {
          "base_uri": "https://localhost:8080/"
        },
        "id": "GyJVogW5v0y6",
        "outputId": "2da3c251-3cab-45e4-de5d-98028bb4fc62"
      },
      "execution_count": 242,
      "outputs": [
        {
          "output_type": "stream",
          "name": "stdout",
          "text": [
            "<built-in method mean of numpy.ndarray object at 0x7f652c7d8e10>\n",
            "0.011298235685879543\n"
          ]
        }
      ]
    },
    {
      "cell_type": "code",
      "source": [
        "treeClassifier = tree.DecisionTreeClassifier(min_samples_leaf=100).fit(X_train, y_train)\n",
        "metrics.accuracy_score(y_test, treeClassifier.predict(X_test)"
      ],
      "metadata": {
        "colab": {
          "base_uri": "https://localhost:8080/",
          "height": 137
        },
        "id": "AJgH1MOOyX7U",
        "outputId": "bfb867eb-f6ac-4fe8-e2dc-82c581ee6050"
      },
      "execution_count": 254,
      "outputs": [
        {
          "output_type": "error",
          "ename": "SyntaxError",
          "evalue": "ignored",
          "traceback": [
            "\u001b[0;36m  File \u001b[0;32m\"<ipython-input-254-f6d40810d7a7>\"\u001b[0;36m, line \u001b[0;32m2\u001b[0m\n\u001b[0;31m    metrics.accuracy_score(y_test, treeClassifier.predict(X_test)\u001b[0m\n\u001b[0m                                                                 ^\u001b[0m\n\u001b[0;31mSyntaxError\u001b[0m\u001b[0;31m:\u001b[0m unexpected EOF while parsing\n"
          ]
        }
      ]
    },
    {
      "cell_type": "code",
      "source": [
        "abc = AdaBoostClassifier(DecisionTreeClassifier(random_state=111))\n",
        "y_pred_proba, f1_sc = get_score(abc, X_train,y_train, X_test,y_test)\n",
        "print('f1 score for AdaBoost Classifier:{:.3f}'.format(f1_sc))\n",
        "plotPRCurve(y_test,y_pred_proba)"
      ],
      "metadata": {
        "colab": {
          "base_uri": "https://localhost:8080/",
          "height": 321
        },
        "id": "eCXL15oubARf",
        "outputId": "1615f4c5-ac4d-4650-fdd6-8a59fcbf1c48"
      },
      "execution_count": 249,
      "outputs": [
        {
          "output_type": "error",
          "ename": "TypeError",
          "evalue": "ignored",
          "traceback": [
            "\u001b[0;31m---------------------------------------------------------------------------\u001b[0m",
            "\u001b[0;31mTypeError\u001b[0m                                 Traceback (most recent call last)",
            "\u001b[0;32m<ipython-input-249-ba981f712c0c>\u001b[0m in \u001b[0;36m<module>\u001b[0;34m()\u001b[0m\n\u001b[1;32m      1\u001b[0m \u001b[0mabc\u001b[0m \u001b[0;34m=\u001b[0m \u001b[0mAdaBoostClassifier\u001b[0m\u001b[0;34m(\u001b[0m\u001b[0mDecisionTreeClassifier\u001b[0m\u001b[0;34m(\u001b[0m\u001b[0mrandom_state\u001b[0m\u001b[0;34m=\u001b[0m\u001b[0;36m111\u001b[0m\u001b[0;34m)\u001b[0m\u001b[0;34m)\u001b[0m\u001b[0;34m\u001b[0m\u001b[0;34m\u001b[0m\u001b[0m\n\u001b[0;32m----> 2\u001b[0;31m \u001b[0my_pred_proba\u001b[0m\u001b[0;34m,\u001b[0m \u001b[0mf1_sc\u001b[0m \u001b[0;34m=\u001b[0m \u001b[0mget_score\u001b[0m\u001b[0;34m(\u001b[0m\u001b[0mabc\u001b[0m\u001b[0;34m,\u001b[0m \u001b[0mX_train\u001b[0m\u001b[0;34m,\u001b[0m\u001b[0my_train\u001b[0m\u001b[0;34m,\u001b[0m \u001b[0mX_test\u001b[0m\u001b[0;34m,\u001b[0m\u001b[0my_test\u001b[0m\u001b[0;34m)\u001b[0m\u001b[0;34m\u001b[0m\u001b[0;34m\u001b[0m\u001b[0m\n\u001b[0m\u001b[1;32m      3\u001b[0m \u001b[0mprint\u001b[0m\u001b[0;34m(\u001b[0m\u001b[0;34m'f1 score for AdaBoost Classifier:{:.3f}'\u001b[0m\u001b[0;34m.\u001b[0m\u001b[0mformat\u001b[0m\u001b[0;34m(\u001b[0m\u001b[0mf1_sc\u001b[0m\u001b[0;34m)\u001b[0m\u001b[0;34m)\u001b[0m\u001b[0;34m\u001b[0m\u001b[0;34m\u001b[0m\u001b[0m\n\u001b[1;32m      4\u001b[0m \u001b[0mplotPRCurve\u001b[0m\u001b[0;34m(\u001b[0m\u001b[0my_test\u001b[0m\u001b[0;34m,\u001b[0m\u001b[0my_pred_proba\u001b[0m\u001b[0;34m)\u001b[0m\u001b[0;34m\u001b[0m\u001b[0;34m\u001b[0m\u001b[0m\n",
            "\u001b[0;32m<ipython-input-238-7e0d975d156f>\u001b[0m in \u001b[0;36mget_score\u001b[0;34m(clf, X_train, y_train, X_test, y_test)\u001b[0m\n\u001b[1;32m      3\u001b[0m     \u001b[0my_pred_proba\u001b[0m \u001b[0;34m=\u001b[0m \u001b[0mclf\u001b[0m\u001b[0;34m.\u001b[0m\u001b[0mpredict_proba\u001b[0m\u001b[0;34m(\u001b[0m\u001b[0mX_test\u001b[0m\u001b[0;34m)\u001b[0m\u001b[0;34m\u001b[0m\u001b[0;34m\u001b[0m\u001b[0m\n\u001b[1;32m      4\u001b[0m     \u001b[0my_pred\u001b[0m\u001b[0;34m=\u001b[0m \u001b[0mclf\u001b[0m\u001b[0;34m.\u001b[0m\u001b[0mpredict\u001b[0m\u001b[0;34m(\u001b[0m\u001b[0mX_test\u001b[0m\u001b[0;34m)\u001b[0m\u001b[0;34m\u001b[0m\u001b[0;34m\u001b[0m\u001b[0m\n\u001b[0;32m----> 5\u001b[0;31m     \u001b[0;32mreturn\u001b[0m \u001b[0my_pred_proba\u001b[0m\u001b[0;34m,\u001b[0m \u001b[0mf1_score\u001b[0m\u001b[0;34m(\u001b[0m\u001b[0my_test\u001b[0m\u001b[0;34m,\u001b[0m \u001b[0my_pred\u001b[0m\u001b[0;34m)\u001b[0m\u001b[0;34m\u001b[0m\u001b[0;34m\u001b[0m\u001b[0m\n\u001b[0m",
            "\u001b[0;31mTypeError\u001b[0m: 'numpy.float64' object is not callable"
          ]
        }
      ]
    },
    {
      "cell_type": "markdown",
      "source": [
        "### **Training Model**"
      ],
      "metadata": {
        "id": "f9ZRulub7ST4"
      }
    },
    {
      "cell_type": "code",
      "source": [
        "# Randomforest f1-score: 0.698\n",
        "y_pred_proba, f1_score = get_score(RandomForestClassifier(random_state=42), X_train,y_train, X_test,y_test)\n",
        "print('f1 score for RandomForest :{:.3f}'.format(f1_score))\n",
        "ROCurve(y_test, y_pred_proba)"
      ],
      "metadata": {
        "colab": {
          "base_uri": "https://localhost:8080/",
          "height": 297
        },
        "id": "4132UfijxH6H",
        "outputId": "6c049b26-3c73-4271-e53c-e4a6f52f61a3"
      },
      "execution_count": 203,
      "outputs": [
        {
          "output_type": "stream",
          "name": "stdout",
          "text": [
            "f1 score for RandomForest :0.698\n"
          ]
        },
        {
          "output_type": "display_data",
          "data": {
            "text/plain": [
              "<Figure size 432x288 with 1 Axes>"
            ],
            "image/png": "[encoded data removed]"
          },
          "metadata": {
            "needs_background": "light"
          }
        }
      ]
    },
    {
      "cell_type": "code",
      "source": [
        "# AdaBoost \n",
        "abc = AdaBoostClassifier(DecisionTreeClassifier(random_state=111))\n",
        "y_pred_proba, f1_score = get_score(abc, X_train,y_train, X_test,y_test)\n",
        "print('f1 score for AdaBoost Classifier:{:.3f}'.format(f1_score))\n",
        "ROCurve(y_test,y_pred_proba)"
      ],
      "metadata": {
        "colab": {
          "base_uri": "https://localhost:8080/",
          "height": 339
        },
        "id": "TH3fnpg27jGA",
        "outputId": "c4516901-73e4-4443-e7da-d567aa50bd4c"
      },
      "execution_count": 209,
      "outputs": [
        {
          "output_type": "error",
          "ename": "TypeError",
          "evalue": "ignored",
          "traceback": [
            "\u001b[0;31m---------------------------------------------------------------------------\u001b[0m",
            "\u001b[0;31mTypeError\u001b[0m                                 Traceback (most recent call last)",
            "\u001b[0;32m<ipython-input-209-45caed4ee2cd>\u001b[0m in \u001b[0;36m<module>\u001b[0;34m()\u001b[0m\n\u001b[1;32m      1\u001b[0m \u001b[0;31m# AdaBoost\u001b[0m\u001b[0;34m\u001b[0m\u001b[0;34m\u001b[0m\u001b[0;34m\u001b[0m\u001b[0m\n\u001b[1;32m      2\u001b[0m \u001b[0mabc\u001b[0m \u001b[0;34m=\u001b[0m \u001b[0mAdaBoostClassifier\u001b[0m\u001b[0;34m(\u001b[0m\u001b[0mDecisionTreeClassifier\u001b[0m\u001b[0;34m(\u001b[0m\u001b[0mrandom_state\u001b[0m\u001b[0;34m=\u001b[0m\u001b[0;36m111\u001b[0m\u001b[0;34m)\u001b[0m\u001b[0;34m)\u001b[0m\u001b[0;34m\u001b[0m\u001b[0;34m\u001b[0m\u001b[0m\n\u001b[0;32m----> 3\u001b[0;31m \u001b[0my_pred_proba\u001b[0m\u001b[0;34m,\u001b[0m \u001b[0mf1_score\u001b[0m \u001b[0;34m=\u001b[0m \u001b[0mget_score\u001b[0m\u001b[0;34m(\u001b[0m\u001b[0mabc\u001b[0m\u001b[0;34m,\u001b[0m \u001b[0mX_train\u001b[0m\u001b[0;34m,\u001b[0m\u001b[0my_train\u001b[0m\u001b[0;34m,\u001b[0m \u001b[0mX_test\u001b[0m\u001b[0;34m,\u001b[0m\u001b[0my_test\u001b[0m\u001b[0;34m)\u001b[0m\u001b[0;34m\u001b[0m\u001b[0;34m\u001b[0m\u001b[0m\n\u001b[0m\u001b[1;32m      4\u001b[0m \u001b[0mprint\u001b[0m\u001b[0;34m(\u001b[0m\u001b[0;34m'f1 score for AdaBoost Classifier:{:.3f}'\u001b[0m\u001b[0;34m.\u001b[0m\u001b[0mformat\u001b[0m\u001b[0;34m(\u001b[0m\u001b[0mf1_score\u001b[0m\u001b[0;34m)\u001b[0m\u001b[0;34m)\u001b[0m\u001b[0;34m\u001b[0m\u001b[0;34m\u001b[0m\u001b[0m\n\u001b[1;32m      5\u001b[0m \u001b[0mROCurve\u001b[0m\u001b[0;34m(\u001b[0m\u001b[0my_test\u001b[0m\u001b[0;34m,\u001b[0m\u001b[0my_pred_proba\u001b[0m\u001b[0;34m)\u001b[0m\u001b[0;34m\u001b[0m\u001b[0;34m\u001b[0m\u001b[0m\n",
            "\u001b[0;32m<ipython-input-199-07bcb0cfab8d>\u001b[0m in \u001b[0;36mget_score\u001b[0;34m(clf, X_train, y_train, X_Test, y_test)\u001b[0m\n\u001b[1;32m      4\u001b[0m   \u001b[0my_pred_proba\u001b[0m \u001b[0;34m=\u001b[0m \u001b[0mclf\u001b[0m\u001b[0;34m.\u001b[0m\u001b[0mpredict_proba\u001b[0m\u001b[0;34m(\u001b[0m\u001b[0mX_Test\u001b[0m\u001b[0;34m)\u001b[0m\u001b[0;34m\u001b[0m\u001b[0;34m\u001b[0m\u001b[0m\n\u001b[1;32m      5\u001b[0m   \u001b[0my_pred\u001b[0m \u001b[0;34m=\u001b[0m \u001b[0mclf\u001b[0m\u001b[0;34m.\u001b[0m\u001b[0mpredict\u001b[0m\u001b[0;34m(\u001b[0m\u001b[0mX_test\u001b[0m\u001b[0;34m)\u001b[0m\u001b[0;34m\u001b[0m\u001b[0;34m\u001b[0m\u001b[0m\n\u001b[0;32m----> 6\u001b[0;31m   \u001b[0;32mreturn\u001b[0m \u001b[0my_pred_proba\u001b[0m\u001b[0;34m,\u001b[0m \u001b[0mf1_score\u001b[0m\u001b[0;34m(\u001b[0m\u001b[0my_test\u001b[0m\u001b[0;34m,\u001b[0m \u001b[0my_pred\u001b[0m\u001b[0;34m)\u001b[0m\u001b[0;34m\u001b[0m\u001b[0;34m\u001b[0m\u001b[0m\n\u001b[0m",
            "\u001b[0;31mTypeError\u001b[0m: 'numpy.float64' object is not callable"
          ]
        }
      ]
    },
    {
      "cell_type": "code",
      "source": [
        ""
      ],
      "metadata": {
        "id": "dFtmoWq1SVsN"
      },
      "execution_count": null,
      "outputs": []
    }
  ]
}